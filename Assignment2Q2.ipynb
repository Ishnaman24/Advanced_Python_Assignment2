{
  "nbformat": 4,
  "nbformat_minor": 0,
  "metadata": {
    "colab": {
      "provenance": [],
      "authorship_tag": "ABX9TyPv2snAnb6I91RqEn7iUkyQ",
      "include_colab_link": true
    },
    "kernelspec": {
      "name": "python3",
      "display_name": "Python 3"
    },
    "language_info": {
      "name": "python"
    }
  },
  "cells": [
    {
      "cell_type": "markdown",
      "metadata": {
        "id": "view-in-github",
        "colab_type": "text"
      },
      "source": [
        "<a href=\"https://colab.research.google.com/github/Ishnaman24/Advanced_Python_Assignment2/blob/main/Assignment2Q2.ipynb\" target=\"_parent\"><img src=\"https://colab.research.google.com/assets/colab-badge.svg\" alt=\"Open In Colab\"/></a>"
      ]
    },
    {
      "cell_type": "code",
      "source": [
        "import random as r\n",
        "import string as str\n",
        "\n",
        "file_size = 5*1024*1024\n",
        "\n",
        "with open('random_strings.txt','wb') as file:\n",
        "  while file.tell() < file_size:\n",
        "    random_string= ''.join(r.choices(str.ascii_letters + str.digits,k =3))\n",
        "    file.write(random_string.encode() + b'\\n')"
      ],
      "metadata": {
        "id": "sRKDJxqH10mX"
      },
      "execution_count": 4,
      "outputs": []
    }
  ]
}