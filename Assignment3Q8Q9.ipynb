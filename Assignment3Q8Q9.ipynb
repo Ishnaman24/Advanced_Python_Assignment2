{
  "nbformat": 4,
  "nbformat_minor": 0,
  "metadata": {
    "colab": {
      "provenance": [],
      "authorship_tag": "ABX9TyNf4KOsaICoDCvYySLPMKs3",
      "include_colab_link": true
    },
    "kernelspec": {
      "name": "python3",
      "display_name": "Python 3"
    },
    "language_info": {
      "name": "python"
    }
  },
  "cells": [
    {
      "cell_type": "markdown",
      "metadata": {
        "id": "view-in-github",
        "colab_type": "text"
      },
      "source": [
        "<a href=\"https://colab.research.google.com/github/Ishnaman24/Advanced_Python_Assignment3/blob/main/Assignment3Q8Q9.ipynb\" target=\"_parent\"><img src=\"https://colab.research.google.com/assets/colab-badge.svg\" alt=\"Open In Colab\"/></a>"
      ]
    },
    {
      "cell_type": "code",
      "source": [
        "!pip install pytube\n",
        "import os\n",
        "from pytube import YouTube\n",
        "\n",
        "# Function to download a YouTube video given its URL\n",
        "def download_video(url, output_path):\n",
        "    try:\n",
        "        yt = YouTube(url)\n",
        "        video = yt.streams.filter(file_extension='mp4').first()\n",
        "        video.download(output_path)\n",
        "        print(f\"Downloaded: {yt.title}\")\n",
        "    except Exception as e:\n",
        "        print(f\"Error downloading video: {url}\\n{str(e)}\")\n",
        "\n",
        "# Function to search and download videos\n",
        "def download_videos(query, num_videos):\n",
        "    search_url = f\"https://www.youtube.com/results?search_query={query}&sp=EgIQAQ%253D%253D\"\n",
        "\n",
        "    try:\n",
        "        yt_search = YouTube(search_url)\n",
        "        videos = yt_search.search(query)[:num_videos]\n",
        "\n",
        "        for video in videos:\n",
        "            video_url = f\"https://www.youtube.com/watch?v={video.video_id}\"\n",
        "            download_video(video_url, output_path)\n",
        "    except Exception as e:\n",
        "        print(f\"Error searching videos: {str(e)}\")\n",
        "\n",
        "# Create output directory if it doesn't exist\n",
        "output_path = \"downloaded_videos\"\n",
        "if not os.path.exists(output_path):\n",
        "    os.makedirs(output_path)\n",
        "\n",
        "# Download 10 videos with the search query \"Machine Learning\"\n",
        "search_query = \"Machine Learning\"\n",
        "num_videos = 10\n",
        "download_videos(search_query, num_videos)\n"
      ],
      "metadata": {
        "colab": {
          "base_uri": "https://localhost:8080/"
        },
        "id": "sH1YB8rYeRlO",
        "outputId": "bba14f4b-0eb9-44c9-9bfd-222b8bfcf63f"
      },
      "execution_count": 11,
      "outputs": [
        {
          "output_type": "stream",
          "name": "stdout",
          "text": [
            "Looking in indexes: https://pypi.org/simple, https://us-python.pkg.dev/colab-wheels/public/simple/\n",
            "Requirement already satisfied: pytube in /usr/local/lib/python3.10/dist-packages (15.0.0)\n",
            "Error searching videos: regex_search: could not find match for (?:v=|\\/)([0-9A-Za-z_-]{11}).*\n"
          ]
        }
      ]
    },
    {
      "cell_type": "code",
      "source": [
        "from moviepy.editor import VideoFileClip\n",
        "\n",
        "# Function to convert video to audio\n",
        "def convert_to_audio(video_path, audio_path):\n",
        "    video = VideoFileClip(video_path)\n",
        "    audio = video.audio\n",
        "    audio.write_audiofile(audio_path)\n",
        "    print(f\"Converted: {video_path} to {audio_path}\")\n",
        "\n",
        "# Convert each downloaded video to audio\n",
        "for video_file in os.listdir(output_path):\n",
        "    if video_file.endswith(\".mp4\"):\n",
        "        video_path = os.path.join(output_path, video_file)\n",
        "        audio_file = os.path.splitext(video_file)[0] + \".mp3\"\n",
        "        audio_path = os.path.join(output_path, audio_file)\n",
        "        convert_to_audio(video_path, audio_path)\n"
      ],
      "metadata": {
        "id": "JqLjr-gdfHC9"
      },
      "execution_count": 12,
      "outputs": []
    }
  ]
}