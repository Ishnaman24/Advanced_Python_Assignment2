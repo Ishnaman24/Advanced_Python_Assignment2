{
  "nbformat": 4,
  "nbformat_minor": 0,
  "metadata": {
    "colab": {
      "provenance": [],
      "authorship_tag": "ABX9TyMv2vRI28XpLFBdh2p6mVin",
      "include_colab_link": true
    },
    "kernelspec": {
      "name": "python3",
      "display_name": "Python 3"
    },
    "language_info": {
      "name": "python"
    }
  },
  "cells": [
    {
      "cell_type": "markdown",
      "metadata": {
        "id": "view-in-github",
        "colab_type": "text"
      },
      "source": [
        "<a href=\"https://colab.research.google.com/github/Ishnaman24/Advanced_Python_Assignment3/blob/main/Assignment3Q15.ipynb\" target=\"_parent\"><img src=\"https://colab.research.google.com/assets/colab-badge.svg\" alt=\"Open In Colab\"/></a>"
      ]
    },
    {
      "cell_type": "code",
      "source": [
        "import numpy as np\n",
        "from scipy.stats import ttest_1samp, wilcoxon, ttest_ind, ranksums\n",
        "\n",
        "# Set seed for reproducibility\n",
        "np.random.seed(42)\n",
        "\n",
        "# Generate a random dataset\n",
        "num_rows = 500\n",
        "num_columns = 5\n",
        "column_ranges = (5, 10)\n",
        "dataset = np.random.uniform(low=column_ranges[0], high=column_ranges[1], size=(num_rows, num_columns))\n",
        "\n",
        "#  Perform t-Test on each column\n",
        "ttest_results = []\n",
        "for i in range(num_columns):\n",
        "    t_statistic, p_value = ttest_1samp(dataset[:, i], column_ranges[0])\n",
        "    ttest_results.append((t_statistic, p_value))\n",
        "\n",
        "#  Perform Wilcoxon Signed Rank Test on each column\n",
        "wilcoxon_results = []\n",
        "for i in range(num_columns):\n",
        "    statistic, p_value = wilcoxon(dataset[:, i] - column_ranges[0])\n",
        "    wilcoxon_results.append((statistic, p_value))\n",
        "\n",
        "#  Perform Two Sample t-Test and Wilcoxon Rank Sum Test on Column 3 and Column 4\n",
        "column_3 = dataset[:, 2]\n",
        "column_4 = dataset[:, 3]\n",
        "ttest_two_sample, p_value_two_sample = ttest_ind(column_3, column_4)\n",
        "wilcoxon_two_sample, p_value_wilcoxon = ranksums(column_3, column_4)\n",
        "\n",
        "\n",
        "print(\"T-Test Results:\")\n",
        "for i, (t_statistic, p_value) in enumerate(ttest_results):\n",
        "    print(f\"Column {i+1}: t-statistic={t_statistic:.4f}, p-value={p_value:.4f}\")\n",
        "\n",
        "print(\"\\nWilcoxon Signed Rank Test Results:\")\n",
        "for i, (statistic, p_value) in enumerate(wilcoxon_results):\n",
        "    print(f\"Column {i+1}: statistic={statistic:.4f}, p-value={p_value:.4f}\")\n",
        "\n",
        "print(\"\\nTwo Sample t-Test Result:\")\n",
        "print(f\"Columns 3 and 4: t-statistic={ttest_two_sample:.4f}, p-value={p_value_two_sample:.4f}\")\n",
        "\n",
        "print(\"\\nWilcoxon Rank Sum Test Result:\")\n",
        "print(f\"Columns 3 and 4: statistic={wilcoxon_two_sample:.4f}, p-value={p_value_wilcoxon:.4f}\")\n"
      ],
      "metadata": {
        "colab": {
          "base_uri": "https://localhost:8080/"
        },
        "id": "IMJgBu8ukZJ5",
        "outputId": "b1bd8dc8-8909-451d-9996-4888b858061b"
      },
      "execution_count": 9,
      "outputs": [
        {
          "output_type": "stream",
          "name": "stdout",
          "text": [
            "T-Test Results:\n",
            "Column 1: t-statistic=38.1459, p-value=0.0000\n",
            "Column 2: t-statistic=37.2797, p-value=0.0000\n",
            "Column 3: t-statistic=39.5620, p-value=0.0000\n",
            "Column 4: t-statistic=38.5011, p-value=0.0000\n",
            "Column 5: t-statistic=38.2115, p-value=0.0000\n",
            "\n",
            "Wilcoxon Signed Rank Test Results:\n",
            "Column 1: statistic=0.0000, p-value=0.0000\n",
            "Column 2: statistic=0.0000, p-value=0.0000\n",
            "Column 3: statistic=0.0000, p-value=0.0000\n",
            "Column 4: statistic=0.0000, p-value=0.0000\n",
            "Column 5: statistic=0.0000, p-value=0.0000\n",
            "\n",
            "Two Sample t-Test Result:\n",
            "Columns 3 and 4: t-statistic=0.0999, p-value=0.9205\n",
            "\n",
            "Wilcoxon Rank Sum Test Result:\n",
            "Columns 3 and 4: statistic=0.1191, p-value=0.9052\n"
          ]
        }
      ]
    }
  ]
}