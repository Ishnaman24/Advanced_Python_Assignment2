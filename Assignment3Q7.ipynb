{
  "nbformat": 4,
  "nbformat_minor": 0,
  "metadata": {
    "colab": {
      "provenance": [],
      "authorship_tag": "ABX9TyMRyyNA9OeBwhaXXVVLojwp",
      "include_colab_link": true
    },
    "kernelspec": {
      "name": "python3",
      "display_name": "Python 3"
    },
    "language_info": {
      "name": "python"
    }
  },
  "cells": [
    {
      "cell_type": "markdown",
      "metadata": {
        "id": "view-in-github",
        "colab_type": "text"
      },
      "source": [
        "<a href=\"https://colab.research.google.com/github/Ishnaman24/Advanced_Python_Assignment3/blob/main/Assignment3Q7.ipynb\" target=\"_parent\"><img src=\"https://colab.research.google.com/assets/colab-badge.svg\" alt=\"Open In Colab\"/></a>"
      ]
    },
    {
      "cell_type": "code",
      "source": [
        "!pip install simple_image_download"
      ],
      "metadata": {
        "colab": {
          "base_uri": "https://localhost:8080/"
        },
        "id": "637KMNHabL8L",
        "outputId": "9a3904d7-b503-4ad4-e7e4-ce6ece902bbf"
      },
      "execution_count": 3,
      "outputs": [
        {
          "output_type": "stream",
          "name": "stdout",
          "text": [
            "Looking in indexes: https://pypi.org/simple, https://us-python.pkg.dev/colab-wheels/public/simple/\n",
            "Collecting simple_image_download\n",
            "  Downloading simple_image_download-0.5-py3-none-any.whl (7.0 kB)\n",
            "Requirement already satisfied: requests in /usr/local/lib/python3.10/dist-packages (from simple_image_download) (2.27.1)\n",
            "INFO: pip is looking at multiple versions of simple-image-download to determine which version is compatible with other requirements. This could take a while.\n",
            "  Downloading simple_image_download-0.4-py3-none-any.whl (4.9 kB)\n",
            "  Downloading simple_image_download-0.2-py3-none-any.whl (3.8 kB)\n",
            "Requirement already satisfied: urllib3<1.27,>=1.21.1 in /usr/local/lib/python3.10/dist-packages (from requests->simple_image_download) (1.26.15)\n",
            "Requirement already satisfied: certifi>=2017.4.17 in /usr/local/lib/python3.10/dist-packages (from requests->simple_image_download) (2022.12.7)\n",
            "Requirement already satisfied: charset-normalizer~=2.0.0 in /usr/local/lib/python3.10/dist-packages (from requests->simple_image_download) (2.0.12)\n",
            "Requirement already satisfied: idna<4,>=2.5 in /usr/local/lib/python3.10/dist-packages (from requests->simple_image_download) (3.4)\n",
            "Installing collected packages: simple_image_download\n",
            "Successfully installed simple_image_download-0.2\n"
          ]
        }
      ]
    },
    {
      "cell_type": "code",
      "source": [
        "from simple_image_download import simple_image_download as simp\n",
        "response = simp.simple_image_download\n",
        "lst = ['Cat']\n",
        "for rep in lst:\n",
        "  response().download(rep, 10)"
      ],
      "metadata": {
        "id": "kQDYNyCdbTvJ"
      },
      "execution_count": 8,
      "outputs": []
    }
  ]
}